{
  "nbformat": 4,
  "nbformat_minor": 0,
  "metadata": {
    "colab": {
      "name": "CartPole-v0.ipynb",
      "provenance": []
    },
    "kernelspec": {
      "name": "python3",
      "display_name": "Python 3"
    }
  },
  "cells": [
    {
      "cell_type": "code",
      "metadata": {
        "id": "IvDHby8UuMgJ",
        "colab_type": "code",
        "colab": {}
      },
      "source": [
        "import numpy as np\n",
        "import gym\n",
        "import matplotlib.pyplot as plt\n",
        "from collections import deque\n",
        "\n",
        "import torch\n",
        "import torch.nn as nn\n",
        "import torch.nn.functional as F\n",
        "from torch.distributions import Categorical"
      ],
      "execution_count": 0,
      "outputs": []
    },
    {
      "cell_type": "code",
      "metadata": {
        "id": "9A0pnke7uQRY",
        "colab_type": "code",
        "outputId": "9ccfecf2-2f3f-4fbe-f609-843ac442fc2a",
        "colab": {
          "base_uri": "https://localhost:8080/",
          "height": 52
        }
      },
      "source": [
        "env = gym.make('CartPole-v0')\n",
        "print(env.observation_space)\n",
        "print(env.action_space)"
      ],
      "execution_count": 0,
      "outputs": [
        {
          "output_type": "stream",
          "text": [
            "Box(4,)\n",
            "Discrete(2)\n"
          ],
          "name": "stdout"
        }
      ]
    },
    {
      "cell_type": "code",
      "metadata": {
        "id": "1TSSy4T3uV6N",
        "colab_type": "code",
        "colab": {}
      },
      "source": [
        "device = torch.device('cuda:0' if torch.cuda.is_available() else 'cpu')\n",
        "\n",
        "class Policy(nn.Module):\n",
        "  \n",
        "  def __init__(self, s_size=4, h_size=16, a_size=2):\n",
        "    super(Policy, self).__init__()\n",
        "    self.fc1 = nn.Linear(s_size, h_size)\n",
        "    self.fc2 = nn.Linear(h_size, a_size)\n",
        "\n",
        "  def forward(self, x):\n",
        "    x = F.relu(self.fc1(x))\n",
        "    x = self.fc2(x)\n",
        "\n",
        "    return F.softmax(x, dim=1)\n",
        "\n",
        "  def act(self, state):\n",
        "    state = torch.from_numpy(state).unsqueeze(0).float().to(device)\n",
        "    probs = self.forward(state).cpu()\n",
        "    m = Categorical(probs)\n",
        "    action = m.sample()\n",
        "    return action.item(), m.log_prob(action)\n",
        "\n",
        "policy = Policy().to(device)"
      ],
      "execution_count": 0,
      "outputs": []
    },
    {
      "cell_type": "code",
      "metadata": {
        "id": "R3qO7ru0uiLw",
        "colab_type": "code",
        "colab": {}
      },
      "source": [
        "optimizer = torch.optim.Adam(policy.parameters(), lr=1e-2)\n",
        "\n",
        "def reinforce(n_episodes=1000, max_t=1000, gamma=1.0, print_every=100):\n",
        "  scores = []\n",
        "  scores_deque = deque(maxlen=100)\n",
        "\n",
        "  for i_episode in range(1, n_episodes+1):\n",
        "    saved_log_probs = []\n",
        "    rewards = []\n",
        "    state = env.reset()\n",
        "\n",
        "    for i in range(max_t):\n",
        "      action, log_prob = policy.act(state)\n",
        "      saved_log_probs.append(log_prob)\n",
        "      state, reward, done, _ = env.step(action)\n",
        "      rewards.append(reward)\n",
        "      if done:\n",
        "        break\n",
        "    \n",
        "    scores.append(sum(rewards))\n",
        "    scores_deque.append(sum(rewards))\n",
        "\n",
        "    discounts = [gamma**1 for i in range(len(rewards) + 1)]\n",
        "    R = sum([a*b for a, b in zip(discounts, rewards)])\n",
        "\n",
        "    policy_loss = []\n",
        "    for log_prob in saved_log_probs:\n",
        "      policy_loss.append(-log_prob*R)\n",
        "    policy_loss = torch.cat(policy_loss).sum()\n",
        "\n",
        "    optimizer.zero_grad()\n",
        "    policy_loss.backward()\n",
        "    optimizer.step()\n",
        "    \n",
        "    torch.save(policy.state_dict(), 'checkpoint.pth')\n",
        "\n",
        "    if i_episode % print_every == 0:\n",
        "        print('Episode {}\\tAverage Score: {:.2f}'.format(i_episode, np.mean(scores_deque)))\n",
        "    if np.mean(scores_deque)>=195.0:\n",
        "        print('Environment solved in {:d} episodes!\\tAverage Score: {:.2f}'.format(i_episode-100, np.mean(scores_deque)))\n",
        "        break\n",
        "  return scores"
      ],
      "execution_count": 0,
      "outputs": []
    },
    {
      "cell_type": "code",
      "metadata": {
        "id": "Z7aZZPSCu4Fg",
        "colab_type": "code",
        "outputId": "06f1f7d2-78b9-4d6a-9704-4a266827d3df",
        "colab": {
          "base_uri": "https://localhost:8080/",
          "height": 421
        }
      },
      "source": [
        "scores = reinforce()\n",
        "\n",
        "plt.plot(np.arange(1, len(scores)+1), scores)\n",
        "plt.xlabel('Episodes')\n",
        "plt.xlabel('Avg Score')\n",
        "plt.show()"
      ],
      "execution_count": 0,
      "outputs": [
        {
          "output_type": "stream",
          "text": [
            "Episode 100\tAverage Score: 20.88\n",
            "Episode 200\tAverage Score: 47.11\n",
            "Episode 300\tAverage Score: 58.28\n",
            "Episode 400\tAverage Score: 133.18\n",
            "Episode 500\tAverage Score: 109.26\n",
            "Episode 600\tAverage Score: 155.30\n",
            "Episode 700\tAverage Score: 183.86\n",
            "Environment solved in 618 episodes!\tAverage Score: 196.32\n"
          ],
          "name": "stdout"
        },
        {
          "output_type": "display_data",
          "data": {
            "image/png": "[encoded data removed]",
            "text/plain": [
              "<Figure size 432x288 with 1 Axes>"
            ]
          },
          "metadata": {
            "tags": []
          }
        }
      ]
    },
    {
      "cell_type": "code",
      "metadata": {
        "id": "dZS47k99_Z3J",
        "colab_type": "code",
        "colab": {}
      },
      "source": [
        "env = gym.make('CartPole-v0')\n",
        "\n",
        "state = env.reset()\n",
        "for t in range(10000):\n",
        "    action, _ = policy.act(state)\n",
        "    env.render()\n",
        "    time.sleep(0.01)\n",
        "    state, reward, done, _ = env.step(action)\n",
        "    if done:\n",
        "        break \n",
        "\n",
        "env.close()"
      ],
      "execution_count": 0,
      "outputs": []
    }
  ]
}